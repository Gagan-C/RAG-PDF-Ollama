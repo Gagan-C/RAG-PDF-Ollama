{
 "cells": [
  {
   "cell_type": "markdown",
   "id": "742d96a6-e72d-488a-98e0-7a95a5d9436c",
   "metadata": {},
   "source": [
    "# RAG implementation \n",
    "This notebook uses chromdb to store vector embeddings, Ollama SDK to communicate with LLM (Llama3.2), PyPDF2 to read pdf file."
   ]
  },
  {
   "cell_type": "markdown",
   "id": "db2de489-b87f-4db2-a271-679c82961a1d",
   "metadata": {},
   "source": [
    "Install requirements"
   ]
  },
  {
   "cell_type": "code",
   "execution_count": null,
   "id": "1b3b7575-4d1d-4bf5-b992-fcbdc1ef9a12",
   "metadata": {},
   "outputs": [],
   "source": [
    "!pip install ollama==0.4.7\n",
    "!pip install PyPDF2==3.0.1\n",
    "!pip install chromadb==1.0.3"
   ]
  },
  {
   "cell_type": "code",
   "execution_count": 5,
   "id": "e20814c1-5855-4247-a8bb-85a264eef09a",
   "metadata": {},
   "outputs": [],
   "source": [
    "import ollama\n",
    "import chromadb\n",
    "from chromadb import Documents, EmbeddingFunction, Embeddings"
   ]
  },
  {
   "cell_type": "markdown",
   "id": "d3ab4a87-dfb8-49e4-afc5-4e2a27f5c119",
   "metadata": {},
   "source": [
    "Open and read pdf file"
   ]
  },
  {
   "cell_type": "code",
   "execution_count": 6,
   "id": "4eea57bc-928b-4df1-a543-6d9b596df5c8",
   "metadata": {},
   "outputs": [],
   "source": [
    "import PyPDF2\n",
    "\n",
    "def read_pdf(file_path):\n",
    "    try:\n",
    "        with open(file_path, 'rb') as file:  \n",
    "            pdf_reader = PyPDF2.PdfReader(file)\n",
    "            text_pages = []\n",
    "\n",
    "            for page_num in range(len(pdf_reader.pages)):\n",
    "                page = pdf_reader.pages[page_num]\n",
    "                text = page.extract_text() or \"\"\n",
    "                text_pages.append(text)\n",
    "\n",
    "            return text_pages\n",
    "\n",
    "    except FileNotFoundError:\n",
    "        print(f\"Error: File not found at {file_path}\")\n",
    "        return None\n",
    "    except PyPDF2.errors.PdfReadError:\n",
    "        print(f\"Error: Could not read PDF file at {file_path}. It might be corrupted or encrypted.\")\n",
    "        return None\n",
    "    except Exception as e:\n",
    "        print(f\"An unexpected error occurred: {e}\")\n",
    "        return None\n"
   ]
  },
  {
   "cell_type": "markdown",
   "id": "cecf5577-641c-4d61-9e5f-a07ab9907819",
   "metadata": {},
   "source": [
    "Read service manual"
   ]
  },
  {
   "cell_type": "code",
   "execution_count": 7,
   "id": "3519f377-7fa7-480e-a405-b96e237dc5dc",
   "metadata": {},
   "outputs": [],
   "source": [
    "manual_data=read_pdf(\"service-manual.pdf\");"
   ]
  },
  {
   "cell_type": "markdown",
   "id": "9d712980-b725-4344-b8ce-c847dab6377f",
   "metadata": {},
   "source": [
    "Clean empty strings"
   ]
  },
  {
   "cell_type": "code",
   "execution_count": 8,
   "id": "ef783da1-14c9-4c0c-aed3-82b3bc958486",
   "metadata": {},
   "outputs": [],
   "source": [
    "def remove_empty_strings(string_list):\n",
    "  return [s for s in string_list if s.strip()]  # or if s.strip() if you want to remove only whitespace strings.\n",
    "\n",
    "manual_data_cleaned =remove_empty_strings(manual_data)"
   ]
  },
  {
   "cell_type": "markdown",
   "id": "b9a5b517-95b5-440a-aba8-ed056f7203fb",
   "metadata": {},
   "source": [
    "Creating embedding function that will be used by chromadb. here i am using nomic text embeddings. make sure to install nomic-embed-text using ollama before running this notebook"
   ]
  },
  {
   "cell_type": "code",
   "execution_count": 13,
   "id": "f1e750af-4c24-42b1-a789-6fe5d2d8b546",
   "metadata": {},
   "outputs": [],
   "source": [
    "class NomicEmbeddingFunction(EmbeddingFunction):\n",
    "    def __init__(self):\n",
    "        print(\"Init Nomic Embeddings\")\n",
    "    \n",
    "    def __call__(self, input: Documents) -> Embeddings:\n",
    "        embeddings=[]\n",
    "        for doc in input:\n",
    "            embeddings.append(ollama.embeddings(model='nomic-embed-text', prompt=doc).embedding)\n",
    "        return embeddings\n"
   ]
  },
  {
   "cell_type": "markdown",
   "id": "fafb77aa-6398-45d7-98a9-cc39e935f8fa",
   "metadata": {},
   "source": [
    "Creating a chromadb persistent client"
   ]
  },
  {
   "cell_type": "code",
   "execution_count": 14,
   "id": "e431943c-6917-4319-ac45-b640f7d6b154",
   "metadata": {
    "scrolled": true
   },
   "outputs": [
    {
     "name": "stdout",
     "output_type": "stream",
     "text": [
      "Init Nomic Embeddings\n"
     ]
    }
   ],
   "source": [
    "chroma_client=chromadb.PersistentClient(path=\"./chroma_db\")\n",
    "DB_NAME = \"carmanualdb\"\n",
    "embed_fn = NomicEmbeddingFunction()\n",
    "db = chroma_client.get_or_create_collection(name=DB_NAME, embedding_function=embed_fn)\n"
   ]
  },
  {
   "cell_type": "markdown",
   "id": "929ecbf9-4355-4071-ad71-8fa2ac4a81bf",
   "metadata": {},
   "source": [
    "Add service manual document into chromadb. This step needs to be executed only once and need not be executed each and every time. If you are changing the pdf you need to remove chroma_db folder to clear old file embeddings."
   ]
  },
  {
   "cell_type": "code",
   "execution_count": 15,
   "id": "f0ba9708-577c-43df-9946-9876eacc578e",
   "metadata": {
    "scrolled": true
   },
   "outputs": [],
   "source": [
    "db.add(documents=manual_data_cleaned, ids=[str(i) for i in range(len(manual_data_cleaned))])"
   ]
  },
  {
   "cell_type": "markdown",
   "id": "e8173ecd-1ba8-4fa8-814b-dbe90c588110",
   "metadata": {},
   "source": [
    "Performing a test query for retriva; on service manual data"
   ]
  },
  {
   "cell_type": "code",
   "execution_count": 16,
   "id": "ae7d5a4b-3fcb-4086-bd9f-8053ddbd2264",
   "metadata": {},
   "outputs": [
    {
     "name": "stdout",
     "output_type": "stream",
     "text": [
      "BODY VERIFICATION TEST\n",
      "BODY VERIFICATION TEST\n",
      "1.\n",
      "Turn the ignition off.\n",
      "Disconnect all jumper wires and reconnect all previously disconnected components and connectors.\n",
      "Note: If the SKREEM or the PCM was replaced, refer to the service information for proper programming\n",
      "procedures.\n",
      "If the Body Control Module was replaced, turn the ignition on for 15 seconds (to allow the new BCM to learn VIN)\n",
      "or engine may not start.\n",
      "Program all RKE transmitters and other options as necessary.With the DRB III T, erase all Diagnostic Trouble Codes (DTCs) from ALL modules. Start the engine and allow it to\n",
      "run for 2 minutes. Operate all functions of the system that caused the original complaint.\n",
      "Ensure that all accessories are turned off and the battery is fully charged.Turn the ignition off and wait 5 seconds. Turn the ignition on and using the DRB III T, read DTCs from ALL modules.\n",
      "Are any DTCs present or is the original complaint still present?\n",
      "Are any DTCs present?\n",
      "YES>>Repair is not complete, refer to appropriate symptom.\n",
      "NO>>Repair is complete.8A - 18 AUDIO - ELECTRICAL DIAGNOSTICS ZH\n",
      "{'ids': [['666']], 'embeddings': None, 'documents': [['BODY VERIFICATION TEST\\nBODY VERIFICATION TEST\\n1.\\nTurn the ignition off.\\nDisconnect all jumper wires and reconnect all previously disconnected components and connectors.\\nNote: If the SKREEM or the PCM was replaced, refer to the service information for proper programming\\nprocedures.\\nIf the Body Control Module was replaced, turn the ignition on for 15 seconds (to allow the new BCM to learn VIN)\\nor engine may not start.\\nProgram all RKE transmitters and other options as necessary.With the DRB III T, erase all Diagnostic Trouble Codes (DTCs) from ALL modules. Start the engine and allow it to\\nrun for 2 minutes. Operate all functions of the system that caused the original complaint.\\nEnsure that all accessories are turned off and the battery is fully charged.Turn the ignition off and wait 5 seconds. Turn the ignition on and using the DRB III T, read DTCs from ALL modules.\\nAre any DTCs present or is the original complaint still present?\\nAre any DTCs present?\\nYES>>Repair is not complete, refer to appropriate symptom.\\nNO>>Repair is complete.8A - 18 AUDIO - ELECTRICAL DIAGNOSTICS ZH']], 'uris': None, 'included': ['metadatas', 'documents', 'distances'], 'data': None, 'metadatas': [[None]], 'distances': [[259.5667724609375]]}\n"
     ]
    }
   ],
   "source": [
    "query = \"How do i perform  body verification test?\"\n",
    "\n",
    "result = db.query(query_texts=query, n_results=1)\n",
    "[all_passages] = result[\"documents\"]\n",
    "\n",
    "print(all_passages[0])\n",
    "print(result)"
   ]
  },
  {
   "cell_type": "markdown",
   "id": "936630d3-92bc-4087-a5a8-ace3b5406a71",
   "metadata": {},
   "source": [
    "retrieved information will be sent it to LLM for complete response. Here I am using Llama3.2, please install Llama3.2 using ollama before running this to notebook"
   ]
  },
  {
   "cell_type": "code",
   "execution_count": 17,
   "id": "f14ee121-f22f-4ef6-822c-fc187d75a5ab",
   "metadata": {
    "scrolled": true
   },
   "outputs": [
    {
     "name": "stdin",
     "output_type": "stream",
     "text": [
      "please enter your question regarding your car:  which coolant should i use for my car?\n"
     ]
    },
    {
     "name": "stdout",
     "output_type": "stream",
     "text": [
      "For optimal engine cooling performance and corrosion protection, you should use Mopar TAntifreeze/Coolant, 5 Year/100,000 Mile Formula (MB 325.0), which is specifically designed for aluminum cylinder blocks, cylinder heads, and water pumps that require special corrosion protection. This coolant offers the best engine cooling without corrosion when mixed with 50% distilled water to obtain a freeze point of -37°C (-35°F).\n"
     ]
    }
   ],
   "source": [
    "from ollama import chat\n",
    "\n",
    "user_prompt=input(\"please enter your question regarding your car: \")\n",
    "\n",
    "result = db.query(query_texts=user_prompt, n_results=3)\n",
    "[all_passages] = result[\"documents\"]\n",
    "\n",
    "prompt =f'QUESTION:{user_prompt}\\n'\n",
    "for passage in all_passages:\n",
    "    prompt=prompt+f'PASSAGE:{passage}\\n'\n",
    "\n",
    "messages = [\n",
    "    {\n",
    "        'role':'system',\n",
    "        'content':'''You are a helpful and informative bot that answers questions using text from the reference passage included below. \n",
    "                    Be sure to respond in a complete sentence, being comprehensive, including all relevant background information. \n",
    "                    However, you are talking to a technical audience. If the passage is irrelevant to the answer, you may ignore it.'''\n",
    "    },\n",
    "    {\n",
    "    'role': 'user',\n",
    "    'content': prompt,\n",
    "    }\n",
    "]\n",
    "#Uncomment to view prompt\n",
    "# print(prompt)\n",
    "\n",
    "response = chat('llama3.2', messages=messages)\n",
    "print(response['message']['content'])"
   ]
  }
 ],
 "metadata": {
  "kernelspec": {
   "display_name": "Python 3 (ipykernel)",
   "language": "python",
   "name": "python3"
  },
  "language_info": {
   "codemirror_mode": {
    "name": "ipython",
    "version": 3
   },
   "file_extension": ".py",
   "mimetype": "text/x-python",
   "name": "python",
   "nbconvert_exporter": "python",
   "pygments_lexer": "ipython3",
   "version": "3.12.9"
  }
 },
 "nbformat": 4,
 "nbformat_minor": 5
}
